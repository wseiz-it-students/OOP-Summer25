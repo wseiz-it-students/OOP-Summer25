{
 "cells": [
  {
   "cell_type": "code",
   "execution_count": 10,
   "id": "02eb14bd",
   "metadata": {},
   "outputs": [
    {
     "name": "stdout",
     "output_type": "stream",
     "text": [
      "Hello World\n"
     ]
    }
   ],
   "source": [
    "print('Hello World')\n"
   ]
  },
  {
   "cell_type": "code",
   "execution_count": 11,
   "id": "a27398d6",
   "metadata": {},
   "outputs": [
    {
     "name": "stdout",
     "output_type": "stream",
     "text": [
      "6\n"
     ]
    }
   ],
   "source": [
    "x = 6 \n",
    "print(x)\n"
   ]
  },
  {
   "cell_type": "code",
   "execution_count": 20,
   "id": "95a4f89b",
   "metadata": {},
   "outputs": [
    {
     "name": "stdout",
     "output_type": "stream",
     "text": [
      "Turkey\n",
      "Zimbabwe\n",
      "Germany\n"
     ]
    }
   ],
   "source": [
    "countries = ['Turkey', 'Zimbabwe', 'Germany']\n",
    "for c in countries:\n",
    "    print(c)\n"
   ]
  },
  {
   "cell_type": "code",
   "execution_count": 22,
   "id": "3e9a8923",
   "metadata": {},
   "outputs": [],
   "source": [
    "student1 = {\n",
    "    'name': 'Sidar',\n",
    "    'index_number' : '34805'\n",
    "}"
   ]
  },
  {
   "cell_type": "code",
   "execution_count": 27,
   "id": "670e398b",
   "metadata": {},
   "outputs": [
    {
     "name": "stdout",
     "output_type": "stream",
     "text": [
      "Sidar\n"
     ]
    }
   ],
   "source": [
    "print(student1['name'])"
   ]
  },
  {
   "cell_type": "code",
   "execution_count": 30,
   "id": "08df4bc3",
   "metadata": {},
   "outputs": [],
   "source": [
    "class Student:\n",
    "    def __init__ (self, name, index_number):\n",
    "       self.name = name\n",
    "       self.index_number =index_number\n",
    "       \n",
    "\n"
   ]
  },
  {
   "cell_type": "code",
   "execution_count": 31,
   "id": "461474f6",
   "metadata": {},
   "outputs": [],
   "source": [
    "student1 = Student('Alya', '34805')\n",
    "student2 = Student('Sidar', '34806')\n"
   ]
  },
  {
   "cell_type": "code",
   "execution_count": null,
   "id": "b2dd8ddc",
   "metadata": {},
   "outputs": [],
   "source": []
  }
 ],
 "metadata": {
  "kernelspec": {
   "display_name": "Python 3",
   "language": "python",
   "name": "python3"
  },
  "language_info": {
   "codemirror_mode": {
    "name": "ipython",
    "version": 3
   },
   "file_extension": ".py",
   "mimetype": "text/x-python",
   "name": "python",
   "nbconvert_exporter": "python",
   "pygments_lexer": "ipython3",
   "version": "3.12.1"
  }
 },
 "nbformat": 4,
 "nbformat_minor": 5
}
