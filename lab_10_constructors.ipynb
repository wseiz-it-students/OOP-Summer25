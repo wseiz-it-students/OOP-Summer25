{
 "cells": [
  {
   "cell_type": "code",
   "execution_count": 8,
   "id": "07c51353",
   "metadata": {},
   "outputs": [],
   "source": [
    "## Lab 10: Constructors\n",
    "\n",
    "## Task 0: W3Schools Reference"
   ]
  },
  {
   "cell_type": "code",
   "execution_count": 9,
   "id": "cfce298b",
   "metadata": {},
   "outputs": [],
   "source": [
    "class Animal:\n",
    "    def __init__(self):\n",
    "        print('A new animal has been created!')"
   ]
  },
  {
   "cell_type": "code",
   "execution_count": 10,
   "id": "796c6aaa",
   "metadata": {},
   "outputs": [],
   "source": [
    "# Code cell for objects"
   ]
  },
  {
   "cell_type": "code",
   "execution_count": 11,
   "id": "0178155c",
   "metadata": {},
   "outputs": [
    {
     "name": "stdout",
     "output_type": "stream",
     "text": [
      "A new animal has been created!\n",
      "A new animal has been created!\n",
      "A new animal has been created!\n"
     ]
    }
   ],
   "source": [
    "animal1 = Animal()\n",
    "animal2 = Animal()\n",
    "animal3 = Animal()"
   ]
  },
  {
   "cell_type": "code",
   "execution_count": 12,
   "id": "917f0881",
   "metadata": {},
   "outputs": [],
   "source": [
    "# Code cell for the class"
   ]
  },
  {
   "cell_type": "code",
   "execution_count": 13,
   "id": "e6207f3d",
   "metadata": {},
   "outputs": [],
   "source": [
    "class Car:\n",
    "    def __init__(self, brand, model):\n",
    "        self.brand = brand\n",
    "        self.model = model\n",
    "        print(f'Created car: {self.brand} {self.model}')"
   ]
  },
  {
   "cell_type": "code",
   "execution_count": 14,
   "id": "a039431e",
   "metadata": {},
   "outputs": [],
   "source": [
    "# Code cell for objects"
   ]
  },
  {
   "cell_type": "code",
   "execution_count": 15,
   "id": "8a1d1882",
   "metadata": {},
   "outputs": [
    {
     "name": "stdout",
     "output_type": "stream",
     "text": [
      "Created car: Toyota Corolla\n",
      "Created car: BMW X5\n",
      "Created car: Tesla Model 3\n"
     ]
    }
   ],
   "source": [
    "car1 = Car('Toyota', 'Corolla')\n",
    "car2 = Car('BMW', 'X5')\n",
    "car3 = Car('Tesla', 'Model 3')"
   ]
  },
  {
   "cell_type": "code",
   "execution_count": 16,
   "id": "43619f18",
   "metadata": {},
   "outputs": [],
   "source": [
    "# Code cell for the class"
   ]
  },
  {
   "cell_type": "code",
   "execution_count": 17,
   "id": "4d4d4e1d",
   "metadata": {},
   "outputs": [],
   "source": [
    "class House:\n",
    "    def __init__(self, address, rooms, price):\n",
    "        self.address = address\n",
    "        self.rooms = rooms\n",
    "        self.price = price\n",
    "        print(f'Created house at {self.address} with {self.rooms} rooms for ${self.price}')"
   ]
  },
  {
   "cell_type": "code",
   "execution_count": 18,
   "id": "7f9bd268",
   "metadata": {},
   "outputs": [],
   "source": [
    "# Code cell for objects"
   ]
  },
  {
   "cell_type": "code",
   "execution_count": 19,
   "id": "d0375b37",
   "metadata": {},
   "outputs": [
    {
     "name": "stdout",
     "output_type": "stream",
     "text": [
      "Created house at 123 Main St with 3 rooms for $250000\n",
      "Created house at 456 Oak Ave with 5 rooms for $450000\n"
     ]
    }
   ],
   "source": [
    "house1 = House('123 Main St', 3, 250000)\n",
    "house2 = House('456 Oak Ave', 5, 450000)"
   ]
  },
  {
   "cell_type": "code",
   "execution_count": null,
   "id": "0cc74f04",
   "metadata": {},
   "outputs": [],
   "source": []
  },
  {
   "cell_type": "code",
   "execution_count": null,
   "id": "a0798512",
   "metadata": {},
   "outputs": [],
   "source": []
  }
 ],
 "metadata": {
  "kernelspec": {
   "display_name": "Python 3",
   "language": "python",
   "name": "python3"
  },
  "language_info": {
   "codemirror_mode": {
    "name": "ipython",
    "version": 3
   },
   "file_extension": ".py",
   "mimetype": "text/x-python",
   "name": "python",
   "nbconvert_exporter": "python",
   "pygments_lexer": "ipython3",
   "version": "3.12.1"
  }
 },
 "nbformat": 4,
 "nbformat_minor": 5
}
