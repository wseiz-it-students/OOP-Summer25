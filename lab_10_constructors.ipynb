class Car:
    def __init__(self, brand, model, year, type, color):
        self.brand = brand
        self.model = model
        self.year = year
        self.type = type
        self.color = color
    def __repr__(self):
        return f"Car({self.brand}, {self.model}, {self.year}, {self.type}, {self.color})"
car1 = Car("Toyota", "Corolla", 2020, "Sedan", "Blue")
car2 = Car("Honda", "Civic", 2021, "Sedan", "Red")
car3 = Car("Ford", "Mustang", 2022, "Coupe", "Black")
print(car1)
print(car2)
print(car3)
